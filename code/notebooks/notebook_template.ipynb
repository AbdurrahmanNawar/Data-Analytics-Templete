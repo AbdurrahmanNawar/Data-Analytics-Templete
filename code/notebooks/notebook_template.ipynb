{
 "cells": [
  {
   "cell_type": "markdown",
   "id": "dc362463-5626-4a36-9a9e-61f4a2ae4d09",
   "metadata": {},
   "source": [
    "# Project name"
   ]
  },
  {
   "cell_type": "markdown",
   "id": "9a6b2d7a-7c00-44c6-9321-19a02b28d73d",
   "metadata": {},
   "source": [
    "**Author** Abdurrahman Nawar\n",
    "**Last Modified** 11-13-2024 (created: 11-13-2024)\n",
    "\n",
    "**Description** Short paragraph explaining this project."
   ]
  },
  {
   "cell_type": "markdown",
   "id": "53c462bc-848b-40f3-a546-215df04eec89",
   "metadata": {},
   "source": [
    "<br>"
   ]
  },
  {
   "cell_type": "markdown",
   "id": "f2e98b20-f2c6-4962-9022-e17a4531b824",
   "metadata": {},
   "source": [
    "Import libraries:"
   ]
  },
  {
   "cell_type": "code",
   "execution_count": 18,
   "id": "afd19e6a-8dfe-417c-bd27-609888b5fde7",
   "metadata": {},
   "outputs": [],
   "source": [
    "import pandas as pd"
   ]
  },
  {
   "cell_type": "markdown",
   "id": "259eb446-cacf-4442-86ad-57ad6fd02a84",
   "metadata": {},
   "source": [
    "<br>"
   ]
  },
  {
   "cell_type": "markdown",
   "id": "be260c9e-fbc6-482c-8d96-08db931a2d19",
   "metadata": {},
   "source": [
    "Load Data:"
   ]
  },
  {
   "cell_type": "code",
   "execution_count": 21,
   "id": "fb4a3282-3845-4d89-b080-10f829bb6c70",
   "metadata": {},
   "outputs": [],
   "source": [
    "#code to read csv file"
   ]
  }
 ],
 "metadata": {
  "kernelspec": {
   "display_name": "Python 3 (ipykernel)",
   "language": "python",
   "name": "python3"
  },
  "language_info": {
   "codemirror_mode": {
    "name": "ipython",
    "version": 3
   },
   "file_extension": ".py",
   "mimetype": "text/x-python",
   "name": "python",
   "nbconvert_exporter": "python",
   "pygments_lexer": "ipython3",
   "version": "3.12.4"
  }
 },
 "nbformat": 4,
 "nbformat_minor": 5
}
